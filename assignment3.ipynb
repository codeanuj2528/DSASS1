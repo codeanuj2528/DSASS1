{
 "cells": [
  {
   "cell_type": "code",
   "execution_count": 10,
   "metadata": {},
   "outputs": [
    {
     "name": "stdout",
     "output_type": "stream",
     "text": [
      "true \n",
      "\n",
      "2\n",
      "3\n",
      "45\n",
      "5\n",
      "wooo\n"
     ]
    }
   ],
   "source": [
    "#1) Explain the significance of Python keywords and provide examples of five keywords\n",
    "#if\n",
    "x=5\n",
    "if x==5 :\n",
    "    print(\"true\",\"\\n\")\n",
    "#for\n",
    "numbers=[2,3,45,5]\n",
    "for i in numbers:\n",
    "    print(i)\n",
    "#def\n",
    "def greet(name):\n",
    "    print(\"hello\", name)\n",
    "\n",
    "#class\n",
    "class Dog:\n",
    "    @staticmethod\n",
    "    def bark():\n",
    "        print(\"wooo\")\n",
    "\n",
    "# Calling the static method on the class\n",
    "Dog.bark()\n",
    "\n",
    "\n",
    "\n",
    "#return \n",
    "x=4\n",
    "y=6\n",
    "def add(x,y):\n",
    "    return x+y"
   ]
  },
  {
   "cell_type": "code",
   "execution_count": null,
   "id": "28b3fce0",
   "metadata": {},
   "outputs": [],
   "source": [
    "# Descri0e the rules for defining identifiers in Python and provide an example\n",
    "# Valid Identifiers\n",
    "my_variable = 42\n",
    "myVar = \"Hello\"\n",
    "_count = 5\n",
    "class_name = \"PythonClass\"\n",
    "\n",
    "# Invalid Identifiers\n",
    "3invalid = \"This is invalid\"  # Starts with a digit\n",
    "my-variable = 10              # Contains an invalid character \"-\"\n",
    "if = 20                       # Uses a reserved keyword\n"
   ]
  },
  {
   "cell_type": "code",
   "execution_count": null,
   "id": "b6e44b04",
   "metadata": {},
   "outputs": [],
   "source": [
    "#8 What are comments in Python, and why are they useful6 Provide an example\n",
    "# This is a single-line comment\n",
    "print(\"Hello, World!\")  # This comment explains the print statement\n",
    "\n",
    "'''\n",
    "This is a multi-line comment using triple-quotes.\n",
    "It serves as a docstring for the following function.\n",
    "'''\n",
    "def add_numbers(a, b):\n",
    "    \"\"\"This function adds two numbers.\"\"\"\n",
    "    return a + b\n"
   ]
  },
  {
   "cell_type": "code",
   "execution_count": null,
   "id": "759848af",
   "metadata": {},
   "outputs": [],
   "source": [
    "\n",
    "#` Why is proper indentation important in \n",
    "def example_function():\n",
    "    if condition:\n",
    "        print(\"Condition is True\")\n",
    "    else:\n",
    "        print(\"Condition is False\")\n",
    "    for i in range(5):\n",
    "        print(i)\n",
    "\n",
    "def example_function():\n",
    "    if condition:  # Incorrect indentation\n",
    "print(\"Condition is True\")  # Incorrect indentation\n",
    "else:  # Incorrect indentation\n",
    "print(\"Condition is False\")  # Incorrect indentation\n",
    "for i in range(5):  # Incorrect indentation\n",
    "print(i)  # Incorrect indentation\n"
   ]
  },
  {
   "cell_type": "code",
   "execution_count": null,
   "id": "16b1e939",
   "metadata": {},
   "outputs": [],
   "source": [
    "#k What happens if indentation is incorrect in Python6\n",
    "def example_function():\n",
    "    print(\"Indented incorrectly\")  # Raises IndentationError\n",
    "if condition:\n",
    "    print(\"Block inside if statement\")  # Executed regardless of the condition\n",
    "\n",
    "def example_function():\n",
    "    if condition:\n",
    "    print(\"Inside if statement\")  # Not recognized as part of the if block\n",
    "def outer_function():\n",
    "    print(\"This is outer function\")\n",
    "print(\"This is not part of outer function\")  # Unintended scoping\n"
   ]
  },
  {
   "cell_type": "code",
   "execution_count": null,
   "id": "14327e6f",
   "metadata": {},
   "outputs": [],
   "source": [
    "#{ Differentiate 0etween expression and statement in Python with examples\n",
    "# Arithmetic expression\n",
    "result = 2 + 3 * 4  # Evaluates to 14\n",
    "\n",
    "# Logical expression\n",
    "is_true = (x > 0) and (y < 10)  # Evaluates to True or False\n",
    "\n",
    "# String concatenation\n",
    "full_name = first_name + \" \" + last_name  # Concatenates two strings\n",
    "# Assignment statement\n",
    "x = 10  # Assigns the value 10 to variable x\n",
    "\n",
    "# Conditional statement\n",
    "if x > 0:\n",
    "    print(\"x is positive\")  # Prints a message if the condition is true\n",
    "else:\n",
    "    print(\"x is non-positive\")  # Prints a message if the condition is false\n",
    "\n",
    "# Function call statement\n",
    "result = calculate_sum(5, 3)  # Calls a function and assigns the result to a variable\n"
   ]
  }
 ],
 "metadata": {
  "kernelspec": {
   "display_name": "Python 3",
   "language": "python",
   "name": "python3"
  },
  "language_info": {
   "codemirror_mode": {
    "name": "ipython",
    "version": 3
   },
   "file_extension": ".py",
   "mimetype": "text/x-python",
   "name": "python",
   "nbconvert_exporter": "python",
   "pygments_lexer": "ipython3",
   "version": "3.12.1"
  }
 },
 "nbformat": 4,
 "nbformat_minor": 5
}
