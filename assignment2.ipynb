{
 "cells": [
  {
   "cell_type": "code",
   "execution_count": 2,
   "metadata": {},
   "outputs": [
    {
     "name": "stdout",
     "output_type": "stream",
     "text": [
      "10\n",
      "0\n",
      "0\n"
     ]
    }
   ],
   "source": [
    "##, Calc$late the s$m, difference, prod$ct, and q$otient of two n$mbers.\n",
    "num1=5\n",
    "num2=5\n",
    "sum=num1+num2\n",
    "differ=num1-num2\n",
    "quotient=num1%num2\n",
    "sum\n",
    "print(sum)\n",
    "print(differ)\n",
    "\n",
    "print(quotient)"
   ]
  },
  {
   "cell_type": "code",
   "execution_count": 3,
   "id": "58145342",
   "metadata": {},
   "outputs": [
    {
     "name": "stdout",
     "output_type": "stream",
     "text": [
      "0.0\n"
     ]
    }
   ],
   "source": [
    "#Perform @ario$s assignment operations on a @ariable.\n",
    "num=5\n",
    "num+=5\n",
    "num-=5\n",
    "num*=5\n",
    "num/=5\n",
    "num%=5\n",
    "num//=5\n",
    "num**=5\n",
    "print(num)"
   ]
  },
  {
   "cell_type": "code",
   "execution_count": 4,
   "id": "ab8dccca",
   "metadata": {},
   "outputs": [
    {
     "data": {
      "text/plain": [
       "False"
      ]
     },
     "execution_count": 4,
     "metadata": {},
     "output_type": "execute_result"
    }
   ],
   "source": [
    "#Compare two n$mbers and print the res$lts.\n",
    "num1=2\n",
    "num2=45\n",
    "num1==num2"
   ]
  },
  {
   "cell_type": "code",
   "execution_count": 5,
   "id": "c2928490",
   "metadata": {},
   "outputs": [
    {
     "name": "stdout",
     "output_type": "stream",
     "text": [
      "true case\n"
     ]
    }
   ],
   "source": [
    "#h, Check conditions $sing logical operators.\n",
    "num1=4\n",
    "num2=5\n",
    "if(num1>1 and num2<10):\n",
    "    print(\"true case\")\n",
    "else:\n",
    "    print(\"false case\")"
   ]
  },
  {
   "cell_type": "code",
   "execution_count": 6,
   "id": "6de88311",
   "metadata": {},
   "outputs": [
    {
     "name": "stdout",
     "output_type": "stream",
     "text": [
      "var are not same object\n"
     ]
    }
   ],
   "source": [
    "#Check the identity of @ariables.\n",
    "var1=[1,2,3]\n",
    "var2=[3,5,6]\n",
    "if var1 is var2:\n",
    "    print(\"the var are the same object\")\n",
    "else:\n",
    "    print(\"var are not same object\")"
   ]
  },
  {
   "cell_type": "code",
   "execution_count": 7,
   "id": "2a3a9824",
   "metadata": {},
   "outputs": [
    {
     "name": "stdout",
     "output_type": "stream",
     "text": [
      "4 \n",
      "\n",
      "5 \n",
      "\n",
      "1\n"
     ]
    }
   ],
   "source": [
    "#«, Perform bitwise operations on any two integers.\n",
    "num1=4\n",
    "num2=5\n",
    "bit_and=num1&num2\n",
    "bit_or=num1|num2\n",
    "bit_xor=num1^num2\n",
    "print(bit_and,\"\\n\")\n",
    "print(bit_or,\"\\n\")\n",
    "print(bit_xor)\n",
    "\n",
    "      "
   ]
  },
  {
   "cell_type": "code",
   "execution_count": 13,
   "id": "c0df5c19",
   "metadata": {},
   "outputs": [
    {
     "name": "stdout",
     "output_type": "stream",
     "text": [
      "4.2 \n",
      "\n",
      "-4.2 \n",
      "\n"
     ]
    }
   ],
   "source": [
    "# Use $nary operators to change the sign of a n$mber.\n",
    "num=4.2\n",
    "res=-(num)\n",
    "print(num,\"\\n\")\n",
    "print(res,\"\\n\")"
   ]
  },
  {
   "cell_type": "code",
   "execution_count": 15,
   "id": "ed978199",
   "metadata": {},
   "outputs": [
    {
     "name": "stdout",
     "output_type": "stream",
     "text": [
      "5.2 \n",
      "\n",
      "-4.2 \n",
      "\n"
     ]
    }
   ],
   "source": [
    "#ternary operator\n",
    "num1=5.2\n",
    "result2=-num if num>=0 else num\n",
    "print(num1,\"\\n\")\n",
    "print(result2,\"\\n\")"
   ]
  }
 ],
 "metadata": {
  "kernelspec": {
   "display_name": "Python 3",
   "language": "python",
   "name": "python3"
  },
  "language_info": {
   "codemirror_mode": {
    "name": "ipython",
    "version": 3
   },
   "file_extension": ".py",
   "mimetype": "text/x-python",
   "name": "python",
   "nbconvert_exporter": "python",
   "pygments_lexer": "ipython3",
   "version": "3.12.1"
  }
 },
 "nbformat": 4,
 "nbformat_minor": 5
}
